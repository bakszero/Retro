{
 "cells": [
  {
   "cell_type": "code",
   "execution_count": 1,
   "metadata": {
    "scrolled": true
   },
   "outputs": [
    {
     "name": "stdout",
     "output_type": "stream",
     "text": [
      "   Population    Profit\n",
      "0   -0.529654  2.132905\n",
      "1   -0.680150  0.597261\n",
      "2    0.092716  1.419690\n",
      "3   -0.298872  1.091575\n",
      "4   -0.594333  0.178606\n"
     ]
    }
   ],
   "source": [
    "import numpy as np\n",
    "import pandas as pd\n",
    "import matplotlib.pyplot as plt\n",
    "%matplotlib inline\n",
    "path = 'data1.txt'\n",
    "data = pd.read_csv(path, header=None, names=['Population','Profit'])\n",
    "data = (data - data.mean())/ data.std()\n",
    "print(data.head())\n",
    "\n",
    "\n"
   ]
  },
  {
   "cell_type": "code",
   "execution_count": 2,
   "metadata": {
    "collapsed": true
   },
   "outputs": [],
   "source": [
    "def cost_function(x, y, theta):\n",
    "    vec = np.power((np.dot(x,theta.T)-y),2)\n",
    "    sum = np.sum(vec)/(2*x.shape[0])\n",
    "    return sum"
   ]
  },
  {
   "cell_type": "code",
   "execution_count": 3,
   "metadata": {},
   "outputs": [
    {
     "data": {
      "text/plain": [
       "<matplotlib.axes._subplots.AxesSubplot at 0x7f34700c5780>"
      ]
     },
     "execution_count": 3,
     "metadata": {},
     "output_type": "execute_result"
    },
    {
     "data": {
      "image/png": "[encoded data removed]",
      "text/plain": [
       "<matplotlib.figure.Figure at 0x7f3470145390>"
      ]
     },
     "metadata": {},
     "output_type": "display_data"
    }
   ],
   "source": [
    "data.plot( kind='scatter',x='Population', y='Profit', figsize=(12,8))"
   ]
  },
  {
   "cell_type": "code",
   "execution_count": 4,
   "metadata": {
    "collapsed": true
   },
   "outputs": [],
   "source": [
    "data.insert(0, 'Ones', 1)\n"
   ]
  },
  {
   "cell_type": "code",
   "execution_count": 5,
   "metadata": {},
   "outputs": [
    {
     "data": {
      "text/plain": [
       "3"
      ]
     },
     "execution_count": 5,
     "metadata": {},
     "output_type": "execute_result"
    }
   ],
   "source": [
    "cols = data.shape[1] #no. of columns being denoted as the 1th element of the array\n",
    "cols"
   ]
  },
  {
   "cell_type": "code",
   "execution_count": 6,
   "metadata": {
    "collapsed": true
   },
   "outputs": [],
   "source": [
    "x=data.iloc[:, 0:cols-1]\n"
   ]
  },
  {
   "cell_type": "code",
   "execution_count": 7,
   "metadata": {
    "collapsed": true
   },
   "outputs": [],
   "source": [
    "y = data.iloc[:,cols-1:cols]"
   ]
  },
  {
   "cell_type": "code",
   "execution_count": 8,
   "metadata": {
    "scrolled": true
   },
   "outputs": [
    {
     "data": {
      "text/plain": [
       "array([[ 1.        , -0.52965418],\n",
       "       [ 1.        , -0.68014967],\n",
       "       [ 1.        ,  0.09271597],\n",
       "       [ 1.        , -0.29887204],\n",
       "       [ 1.        , -0.59433313],\n",
       "       [ 1.        ,  0.05765031],\n",
       "       [ 1.        , -0.17659446],\n",
       "       [ 1.        ,  0.10809111],\n",
       "       [ 1.        , -0.4324678 ],\n",
       "       [ 1.        , -0.80240141],\n",
       "       [ 1.        , -0.63286142],\n",
       "       [ 1.        ,  1.55151956],\n",
       "       [ 1.        , -0.62684057],\n",
       "       [ 1.        ,  0.06423966],\n",
       "       [ 1.        , -0.65094982],\n",
       "       [ 1.        , -0.71847124],\n",
       "       [ 1.        , -0.46368321],\n",
       "       [ 1.        , -0.78289178],\n",
       "       [ 1.        , -0.44709356],\n",
       "       [ 1.        , -0.28140382],\n",
       "       [ 1.        , -0.50924013],\n",
       "       [ 1.        ,  3.12934483],\n",
       "       [ 1.        , -0.68986572],\n",
       "       [ 1.        , -0.47383855],\n",
       "       [ 1.        , -0.67053698],\n",
       "       [ 1.        ,  2.78695726],\n",
       "       [ 1.        ,  1.20628953],\n",
       "       [ 1.        ,  0.72281245],\n",
       "       [ 1.        ,  1.29621472],\n",
       "       [ 1.        ,  3.62884306],\n",
       "       [ 1.        , -0.75128876],\n",
       "       [ 1.        , -0.40580033],\n",
       "       [ 1.        ,  0.28124877],\n",
       "       [ 1.        , -0.58606415],\n",
       "       [ 1.        ,  0.01325621],\n",
       "       [ 1.        , -0.05850305],\n",
       "       [ 1.        , -0.01651212],\n",
       "       [ 1.        , -0.65983898],\n",
       "       [ 1.        ,  1.20835678],\n",
       "       [ 1.        , -0.46678407],\n",
       "       [ 1.        , -0.71136508],\n",
       "       [ 1.        , -0.33006161],\n",
       "       [ 1.        ,  0.91687514],\n",
       "       [ 1.        , -0.61658186],\n",
       "       [ 1.        , -0.08659175],\n",
       "       [ 1.        , -0.27564137],\n",
       "       [ 1.        , -0.79837028],\n",
       "       [ 1.        , -0.60942403],\n",
       "       [ 1.        ,  0.91480789],\n",
       "       [ 1.        , -0.67655783],\n",
       "       [ 1.        , -0.16010818],\n",
       "       [ 1.        , -0.73699893],\n",
       "       [ 1.        , -0.19016076],\n",
       "       [ 1.        , -0.14385446],\n",
       "       [ 1.        , -0.47210723],\n",
       "       [ 1.        , -0.46536284],\n",
       "       [ 1.        , -0.48724981],\n",
       "       [ 1.        , -0.65120823],\n",
       "       [ 1.        ,  0.29726993],\n",
       "       [ 1.        ,  0.33432531],\n",
       "       [ 1.        ,  0.17199484],\n",
       "       [ 1.        , -0.77017822],\n",
       "       [ 1.        ,  3.39007619],\n",
       "       [ 1.        ,  1.74377341],\n",
       "       [ 1.        ,  2.79057494],\n",
       "       [ 1.        , -0.24331482],\n",
       "       [ 1.        ,  0.03496229],\n",
       "       [ 1.        ,  0.53650193],\n",
       "       [ 1.        , -0.68746255],\n",
       "       [ 1.        ,  3.14769163],\n",
       "       [ 1.        ,  0.51066136],\n",
       "       [ 1.        , -0.21326223],\n",
       "       [ 1.        , -0.55650254],\n",
       "       [ 1.        , -0.24132509],\n",
       "       [ 1.        , -0.80955925],\n",
       "       [ 1.        , -0.41652416],\n",
       "       [ 1.        , -0.16052163],\n",
       "       [ 1.        , -0.80707855],\n",
       "       [ 1.        ,  0.54632135],\n",
       "       [ 1.        , -0.78868007],\n",
       "       [ 1.        , -0.62808092],\n",
       "       [ 1.        , -0.76782673],\n",
       "       [ 1.        , -0.46618974],\n",
       "       [ 1.        ,  0.41574895],\n",
       "       [ 1.        , -0.42479315],\n",
       "       [ 1.        ,  0.0923542 ],\n",
       "       [ 1.        ,  0.26367719],\n",
       "       [ 1.        , -0.55758784],\n",
       "       [ 1.        , -0.68203603],\n",
       "       [ 1.        , -0.80116106],\n",
       "       [ 1.        , -0.63363664],\n",
       "       [ 1.        , -0.13519787],\n",
       "       [ 1.        , -0.59151651],\n",
       "       [ 1.        , -0.73759326],\n",
       "       [ 1.        ,  0.034523  ],\n",
       "       [ 1.        ,  1.35254717],\n",
       "       [ 1.        , -0.70361291]])"
      ]
     },
     "execution_count": 8,
     "metadata": {},
     "output_type": "execute_result"
    }
   ],
   "source": [
    "x.values"
   ]
  },
  {
   "cell_type": "code",
   "execution_count": 9,
   "metadata": {
    "scrolled": true
   },
   "outputs": [
    {
     "data": {
      "text/plain": [
       "array([[ 2.13290482],\n",
       "       [ 0.59726104],\n",
       "       [ 1.41969013],\n",
       "       [ 1.09157508],\n",
       "       [ 0.17860583],\n",
       "       [ 1.09738242],\n",
       "       [-0.2705561 ],\n",
       "       [ 1.11807109],\n",
       "       [ 0.13784552],\n",
       "       [-0.36704878],\n",
       "       [-0.46947585],\n",
       "       [ 1.75415697],\n",
       "       [-0.48709752],\n",
       "       [ 0.25165135],\n",
       "       [-0.92971166],\n",
       "       [-0.42216413],\n",
       "       [-0.09697089],\n",
       "       [-0.9579154 ],\n",
       "       [-0.39695661],\n",
       "       [-0.08163587],\n",
       "       [-0.49009193],\n",
       "       [ 2.89058201],\n",
       "       [-0.2860363 ],\n",
       "       [-0.11825845],\n",
       "       [-0.50027293],\n",
       "       [ 3.04865071],\n",
       "       [ 1.39047192],\n",
       "       [ 0.21914836],\n",
       "       [ 1.60661408],\n",
       "       [ 3.32250338],\n",
       "       [-1.28108876],\n",
       "       [ 0.02857667],\n",
       "       [ 1.14238936],\n",
       "       [-0.72403724],\n",
       "       [ 0.12766451],\n",
       "       [-0.23171947],\n",
       "       [-0.31264121],\n",
       "       [-0.44395982],\n",
       "       [ 0.77634507],\n",
       "       [-0.06201793],\n",
       "       [-0.95867761],\n",
       "       [-0.34982637],\n",
       "       [-0.08234364],\n",
       "       [-0.61676466],\n",
       "       [ 0.16200045],\n",
       "       [-0.86980162],\n",
       "       [-0.12802205],\n",
       "       [-0.72503537],\n",
       "       [ 0.39293319],\n",
       "       [-0.87495564],\n",
       "       [ 0.16537597],\n",
       "       [-0.72583388],\n",
       "       [-0.28140858],\n",
       "       [-0.15263068],\n",
       "       [-0.80138383],\n",
       "       [-1.3175843 ],\n",
       "       [-0.61041288],\n",
       "       [-0.22411548],\n",
       "       [-0.34058906],\n",
       "       [-0.07713518],\n",
       "       [-0.12154323],\n",
       "       [-1.1944849 ],\n",
       "       [ 2.19406344],\n",
       "       [ 1.12787099],\n",
       "       [ 2.03526882],\n",
       "       [-0.17311972],\n",
       "       [-0.01722877],\n",
       "       [ 0.35139252],\n",
       "       [-0.87506453],\n",
       "       [ 2.74993535],\n",
       "       [ 0.15258166],\n",
       "       [-0.32906511],\n",
       "       [-0.82768022],\n",
       "       [-0.45334232],\n",
       "       [-1.54617596],\n",
       "       [-1.00582419],\n",
       "       [-0.35472632],\n",
       "       [-0.0249961 ],\n",
       "       [ 0.16577522],\n",
       "       [-0.68627134],\n",
       "       [-0.9726588 ],\n",
       "       [-1.02262375],\n",
       "       [-0.93652984],\n",
       "       [ 0.30930741],\n",
       "       [-0.08992949],\n",
       "       [-0.28993812],\n",
       "       [ 0.17403254],\n",
       "       [-0.89146121],\n",
       "       [-1.0320988 ],\n",
       "       [-0.54765725],\n",
       "       [-0.72483575],\n",
       "       [-0.28006563],\n",
       "       [ 0.24749547],\n",
       "       [-0.69910194],\n",
       "       [-1.03345264],\n",
       "       [ 0.58363192],\n",
       "       [-0.94770173]])"
      ]
     },
     "execution_count": 9,
     "metadata": {},
     "output_type": "execute_result"
    }
   ],
   "source": [
    "y.values"
   ]
  },
  {
   "cell_type": "code",
   "execution_count": 10,
   "metadata": {},
   "outputs": [
    {
     "data": {
      "text/plain": [
       "array([[ 0.,  0.]])"
      ]
     },
     "execution_count": 10,
     "metadata": {},
     "output_type": "execute_result"
    }
   ],
   "source": [
    "theta = np.zeros((1,2))\n",
    "theta"
   ]
  },
  {
   "cell_type": "code",
   "execution_count": 11,
   "metadata": {},
   "outputs": [
    {
     "data": {
      "text/plain": [
       "((97, 2), (97, 1), (1, 2))"
      ]
     },
     "execution_count": 11,
     "metadata": {},
     "output_type": "execute_result"
    }
   ],
   "source": [
    "x.shape, y.shape, theta.shape"
   ]
  },
  {
   "cell_type": "code",
   "execution_count": 12,
   "metadata": {},
   "outputs": [
    {
     "data": {
      "text/plain": [
       "Profit    0.494845\n",
       "dtype: float64"
      ]
     },
     "execution_count": 12,
     "metadata": {},
     "output_type": "execute_result"
    }
   ],
   "source": [
    "cost_function(x,y, theta)\n"
   ]
  },
  {
   "cell_type": "code",
   "execution_count": 16,
   "metadata": {},
   "outputs": [],
   "source": [
    "def gradient_descent(x,y, theta, alpha, iterations):\n",
    "    temp = theta.copy()\n",
    "    #print(temp)\n",
    "    #Scrape training data to exclude the ones.\n",
    "    \n",
    "    \n",
    "    #initialise the cost array\n",
    "    cost = np.zeros(iterations)\n",
    "    \n",
    "    for i in range(iterations):\n",
    "        errorx =np.dot(x , theta.T) - y\n",
    "        \n",
    "        for j in range(theta.shape[1]):\n",
    "            x_t = x.iloc[:, j:j+1]\n",
    "            temp[0,j] = theta[0,j] - (1/x.shape[0])*alpha*np.sum(np.dot(errorx,x_t.T))\n",
    "            \n",
    "            \n",
    "            \n",
    "            \n",
    "       # temp[0,0] = theta[0,0] - (1/x.shape[0])*alpha*np.sum(errorx)\n",
    "        \n",
    "        \n",
    "        #print (theta[0,0])\n",
    "        \n",
    "       # temp[0,1] = theta[0,1] - (1/x.shape[0])*alpha*np.sum(np.dot(errorx,x_1.T))  \n",
    "         \n",
    "        #print ((1/x.shape[0])*alpha*np.sum(errorx), (1/x.shape[0])*alpha*np.sum(np.dot(errorx,x_1.T)))\n",
    "        theta = temp.copy()\n",
    "        cost[i] = cost_function(x, y, theta)\n",
    "        #temp = theta.copy()\n",
    "        \n",
    "        \n",
    "        #print(temp)\n",
    "    return theta, cost"
   ]
  },
  {
   "cell_type": "code",
   "execution_count": 30,
   "metadata": {},
   "outputs": [
    {
     "data": {
      "text/plain": [
       "Profit    0.160455\n",
       "dtype: float64"
      ]
     },
     "execution_count": 30,
     "metadata": {},
     "output_type": "execute_result"
    }
   ],
   "source": [
    "theta = np.ones((1,2))\n",
    "alpha =0.01\n",
    "iterations = 1000\n",
    "\n",
    "final_theta, cost = gradient_descent(x, y, theta,alpha, iterations)\n",
    "\n",
    "cost_function(x, y, final_theta)"
   ]
  },
  {
   "cell_type": "code",
   "execution_count": 31,
   "metadata": {
    "scrolled": true
   },
   "outputs": [
    {
     "data": {
      "text/plain": [
       "<matplotlib.text.Text at 0x7f34424a3e10>"
      ]
     },
     "execution_count": 31,
     "metadata": {},
     "output_type": "execute_result"
    },
    {
     "data": {
      "image/png": "[encoded data removed]",
      "text/plain": [
       "<matplotlib.figure.Figure at 0x7f3442984550>"
      ]
     },
     "metadata": {},
     "output_type": "display_data"
    }
   ],
   "source": [
    "fig, ax = plt.subplots(figsize=(12,8))\n",
    "ax.plot(np.arange(iterations), cost, 'r')\n",
    "ax.set_xlabel('Iterations')\n",
    "ax.set_ylabel('Cost')\n",
    "ax.set_title('Error vs. Training Epoch')"
   ]
  },
  {
   "cell_type": "code",
   "execution_count": 34,
   "metadata": {},
   "outputs": [
    {
     "name": "stdout",
     "output_type": "stream",
     "text": [
      "[ -8.09516077e-01  -7.64683731e-01  -7.19851384e-01  -6.75019037e-01\n",
      "  -6.30186691e-01  -5.85354344e-01  -5.40521998e-01  -4.95689651e-01\n",
      "  -4.50857304e-01  -4.06024958e-01  -3.61192611e-01  -3.16360265e-01\n",
      "  -2.71527918e-01  -2.26695571e-01  -1.81863225e-01  -1.37030878e-01\n",
      "  -9.21985316e-02  -4.73661850e-02  -2.53383842e-03   4.22985082e-02\n",
      "   8.71308548e-02   1.31963201e-01   1.76795548e-01   2.21627895e-01\n",
      "   2.66460241e-01   3.11292588e-01   3.56124934e-01   4.00957281e-01\n",
      "   4.45789628e-01   4.90621974e-01   5.35454321e-01   5.80286667e-01\n",
      "   6.25119014e-01   6.69951360e-01   7.14783707e-01   7.59616054e-01\n",
      "   8.04448400e-01   8.49280747e-01   8.94113093e-01   9.38945440e-01\n",
      "   9.83777787e-01   1.02861013e+00   1.07344248e+00   1.11827483e+00\n",
      "   1.16310717e+00   1.20793952e+00   1.25277187e+00   1.29760421e+00\n",
      "   1.34243656e+00   1.38726891e+00   1.43210125e+00   1.47693360e+00\n",
      "   1.52176595e+00   1.56659829e+00   1.61143064e+00   1.65626299e+00\n",
      "   1.70109533e+00   1.74592768e+00   1.79076003e+00   1.83559237e+00\n",
      "   1.88042472e+00   1.92525707e+00   1.97008941e+00   2.01492176e+00\n",
      "   2.05975410e+00   2.10458645e+00   2.14941880e+00   2.19425114e+00\n",
      "   2.23908349e+00   2.28391584e+00   2.32874818e+00   2.37358053e+00\n",
      "   2.41841288e+00   2.46324522e+00   2.50807757e+00   2.55290992e+00\n",
      "   2.59774226e+00   2.64257461e+00   2.68740696e+00   2.73223930e+00\n",
      "   2.77707165e+00   2.82190400e+00   2.86673634e+00   2.91156869e+00\n",
      "   2.95640104e+00   3.00123338e+00   3.04606573e+00   3.09089808e+00\n",
      "   3.13573042e+00   3.18056277e+00   3.22539512e+00   3.27022746e+00\n",
      "   3.31505981e+00   3.35989216e+00   3.40472450e+00   3.44955685e+00\n",
      "   3.49438920e+00   3.53922154e+00   3.58405389e+00   3.62888624e+00]\n"
     ]
    },
    {
     "data": {
      "text/plain": [
       "<matplotlib.text.Text at 0x7f3442274550>"
      ]
     },
     "execution_count": 34,
     "metadata": {},
     "output_type": "execute_result"
    },
    {
     "data": {
      "image/png": "[encoded data removed]",
      "text/plain": [
       "<matplotlib.figure.Figure at 0x7f3442352780>"
      ]
     },
     "metadata": {},
     "output_type": "display_data"
    }
   ],
   "source": [
    "xdash = np.linspace(data.Population.min(), data.Population.max(), 100)\n",
    "f = final_theta[0, 0] + (final_theta[0, 1] * xdash)\n",
    "print(f)\n",
    "fig, ax = plt.subplots(figsize=(12,8))\n",
    "ax.plot(xdash, f, 'r', label='Prediction')\n",
    "ax.scatter(data.Population, data.Profit, label='Traning Data')\n",
    "ax.legend(loc=2)\n",
    "ax.set_xlabel('Population')\n",
    "ax.set_ylabel('Profit')\n",
    "ax.set_title('Predicted Profit vs. Population Size')"
   ]
  },
  {
   "cell_type": "markdown",
   "metadata": {},
   "source": [
    "Now, let us try to make this work via scikit's learning model"
   ]
  }
 ],
 "metadata": {
  "kernelspec": {
   "display_name": "Python 3",
   "language": "python",
   "name": "python3"
  },
  "language_info": {
   "codemirror_mode": {
    "name": "ipython",
    "version": 3
   },
   "file_extension": ".py",
   "mimetype": "text/x-python",
   "name": "python",
   "nbconvert_exporter": "python",
   "pygments_lexer": "ipython3",
   "version": "3.6.1"
  }
 },
 "nbformat": 4,
 "nbformat_minor": 2
}
