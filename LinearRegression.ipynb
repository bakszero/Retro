{
 "cells": [
  {
   "cell_type": "code",
   "execution_count": 1,
   "metadata": {
    "scrolled": true
   },
   "outputs": [
    {
     "name": "stdout",
     "output_type": "stream",
     "text": [
      "   Population    Profit\n",
      "0   -0.529654  2.132905\n",
      "1   -0.680150  0.597261\n",
      "2    0.092716  1.419690\n",
      "3   -0.298872  1.091575\n",
      "4   -0.594333  0.178606\n"
     ]
    }
   ],
   "source": [
    "import numpy as np\n",
    "import pandas as pd\n",
    "import matplotlib.pyplot as plt\n",
    "%matplotlib inline\n",
    "path = 'data1.txt'\n",
    "data = pd.read_csv(path, header=None, names=['Population','Profit'])\n",
    "data = (data - data.mean())/ data.std()\n",
    "print(data.head())\n",
    "\n",
    "\n"
   ]
  },
  {
   "cell_type": "code",
   "execution_count": 2,
   "metadata": {
    "collapsed": true
   },
   "outputs": [],
   "source": [
    "def cost_function(x, y, theta):\n",
    "    vec = np.power((np.dot(x,theta.T)-y),2)\n",
    "    sum = np.sum(vec)/(2*x.shape[0])\n",
    "    return sum"
   ]
  },
  {
   "cell_type": "code",
   "execution_count": 3,
   "metadata": {},
   "outputs": [
    {
     "data": {
      "text/plain": [
       "<matplotlib.axes._subplots.AxesSubplot at 0x7f34700c5780>"
      ]
     },
     "execution_count": 3,
     "metadata": {},
     "output_type": "execute_result"
    },
    {
     "data": {
      "image/png": "[encoded data removed]",
      "text/plain": [
       "<matplotlib.figure.Figure at 0x7f3470145390>"
      ]
     },
     "metadata": {},
     "output_type": "display_data"
    }
   ],
   "source": [
    "data.plot( kind='scatter',x='Population', y='Profit', figsize=(12,8))"
   ]
  },
  {
   "cell_type": "code",
   "execution_count": 4,
   "metadata": {
    "collapsed": true
   },
   "outputs": [],
   "source": [
    "data.insert(0, 'Ones', 1)\n"
   ]
  },
  {
   "cell_type": "code",
   "execution_count": 5,
   "metadata": {},
   "outputs": [
    {
     "data": {
      "text/plain": [
       "3"
      ]
     },
     "execution_count": 5,
     "metadata": {},
     "output_type": "execute_result"
    }
   ],
   "source": [
    "cols = data.shape[1] #no. of columns being denoted as the 1th element of the array\n",
    "cols"
   ]
  },
  {
   "cell_type": "code",
   "execution_count": 6,
   "metadata": {
    "collapsed": true
   },
   "outputs": [],
   "source": [
    "x=data.iloc[:, 0:cols-1]\n"
   ]
  },
  {
   "cell_type": "code",
   "execution_count": 7,
   "metadata": {
    "collapsed": true
   },
   "outputs": [],
   "source": [
    "y = data.iloc[:,cols-1:cols]"
   ]
  },
  {
   "cell_type": "code",
   "execution_count": 8,
   "metadata": {
    "scrolled": true
   },
   "outputs": [
    {
     "data": {
      "text/plain": [
       "array([[ 1.        , -0.52965418],\n",
       "       [ 1.        , -0.68014967],\n",
       "       [ 1.        ,  0.09271597],\n",
       "       [ 1.        , -0.29887204],\n",
       "       [ 1.        , -0.59433313],\n",
       "       [ 1.        ,  0.05765031],\n",
       "       [ 1.        , -0.17659446],\n",
       "       [ 1.        ,  0.10809111],\n",
       "       [ 1.        , -0.4324678 ],\n",
       "       [ 1.        , -0.80240141],\n",
       "       [ 1.        , -0.63286142],\n",
       "       [ 1.        ,  1.55151956],\n",
       "       [ 1.        , -0.62684057],\n",
       "       [ 1.        ,  0.06423966],\n",
       "       [ 1.        , -0.65094982],\n",
       "       [ 1.        , -0.71847124],\n",
       "       [ 1.        , -0.46368321],\n",
       "       [ 1.        , -0.78289178],\n",
       "       [ 1.        , -0.44709356],\n",
       "       [ 1.        , -0.28140382],\n",
       "       [ 1.        , -0.50924013],\n",
       "       [ 1.        ,  3.12934483],\n",
       "       [ 1.        , -0.68986572],\n",
       "       [ 1.        , -0.47383855],\n",
       "       [ 1.        , -0.67053698],\n",
       "       [ 1.        ,  2.78695726],\n",
       "       [ 1.        ,  1.20628953],\n",
       "       [ 1.        ,  0.72281245],\n",
       "       [ 1.        ,  1.29621472],\n",
       "       [ 1.        ,  3.62884306],\n",
       "       [ 1.        , -0.75128876],\n",
       "       [ 1.        , -0.40580033],\n",
       "       [ 1.        ,  0.28124877],\n",
       "       [ 1.        , -0.58606415],\n",
       "       [ 1.        ,  0.01325621],\n",
       "       [ 1.        , -0.05850305],\n",
       "       [ 1.        , -0.01651212],\n",
       "       [ 1.        , -0.65983898],\n",
       "       [ 1.        ,  1.20835678],\n",
       "       [ 1.        , -0.46678407],\n",
       "       [ 1.        , -0.71136508],\n",
       "       [ 1.        , -0.33006161],\n",
       "       [ 1.        ,  0.91687514],\n",
       "       [ 1.        , -0.61658186],\n",
       "       [ 1.        , -0.08659175],\n",
       "       [ 1.        , -0.27564137],\n",
       "       [ 1.        , -0.79837028],\n",
       "       [ 1.        , -0.60942403],\n",
       "       [ 1.        ,  0.91480789],\n",
       "       [ 1.        , -0.67655783],\n",
       "       [ 1.        , -0.16010818],\n",
       "       [ 1.        , -0.73699893],\n",
       "       [ 1.        , -0.19016076],\n",
       "       [ 1.        , -0.14385446],\n",
       "       [ 1.        , -0.47210723],\n",
       "       [ 1.        , -0.46536284],\n",
       "       [ 1.        , -0.48724981],\n",
       "       [ 1.        , -0.65120823],\n",
       "       [ 1.        ,  0.29726993],\n",
       "       [ 1.        ,  0.33432531],\n",
       "       [ 1.        ,  0.17199484],\n",
       "       [ 1.        , -0.77017822],\n",
       "       [ 1.        ,  3.39007619],\n",
       "       [ 1.        ,  1.74377341],\n",
       "       [ 1.        ,  2.79057494],\n",
       "       [ 1.        , -0.24331482],\n",
       "       [ 1.        ,  0.03496229],\n",
       "       [ 1.        ,  0.53650193],\n",
       "       [ 1.        , -0.68746255],\n",
       "       [ 1.        ,  3.14769163],\n",
       "       [ 1.        ,  0.51066136],\n",
       "       [ 1.        , -0.21326223],\n",
       "       [ 1.        , -0.55650254],\n",
       "       [ 1.        , -0.24132509],\n",
       "       [ 1.        , -0.80955925],\n",
       "       [ 1.        , -0.41652416],\n",
       "       [ 1.        , -0.16052163],\n",
       "       [ 1.        , -0.80707855],\n",
       "       [ 1.        ,  0.54632135],\n",
       "       [ 1.        , -0.78868007],\n",
       "       [ 1.        , -0.62808092],\n",
       "       [ 1.        , -0.76782673],\n",
       "       [ 1.        , -0.46618974],\n",
       "       [ 1.        ,  0.41574895],\n",
       "       [ 1.        , -0.42479315],\n",
       "       [ 1.        ,  0.0923542 ],\n",
       "       [ 1.        ,  0.26367719],\n",
       "       [ 1.        , -0.55758784],\n",
       "       [ 1.        , -0.68203603],\n",
       "       [ 1.        , -0.80116106],\n",
       "       [ 1.        , -0.63363664],\n",
       "       [ 1.        , -0.13519787],\n",
       "       [ 1.        , -0.59151651],\n",
       "       [ 1.        , -0.73759326],\n",
       "       [ 1.        ,  0.034523  ],\n",
       "       [ 1.        ,  1.35254717],\n",
       "       [ 1.        , -0.70361291]])"
      ]
     },
     "execution_count": 8,
     "metadata": {},
     "output_type": "execute_result"
    }
   ],
   "source": [
    "x.values"
   ]
  },
  {
   "cell_type": "code",
   "execution_count": 9,
   "metadata": {
    "scrolled": true
   },
   "outputs": [
    {
     "data": {
      "text/plain": [
       "array([[ 2.13290482],\n",
       "       [ 0.59726104],\n",
       "       [ 1.41969013],\n",
       "       [ 1.09157508],\n",
       "       [ 0.17860583],\n",
       "       [ 1.09738242],\n",
       "       [-0.2705561 ],\n",
       "       [ 1.11807109],\n",
       "       [ 0.13784552],\n",
       "       [-0.36704878],\n",
       "       [-0.46947585],\n",
       "       [ 1.75415697],\n",
       "       [-0.48709752],\n",
       "       [ 0.25165135],\n",
       "       [-0.92971166],\n",
       "       [-0.42216413],\n",
       "       [-0.09697089],\n",
       "       [-0.9579154 ],\n",
       "       [-0.39695661],\n",
       "       [-0.08163587],\n",
       "       [-0.49009193],\n",
       "       [ 2.89058201],\n",
       "       [-0.2860363 ],\n",
       "       [-0.11825845],\n",
       "       [-0.50027293],\n",
       "       [ 3.04865071],\n",
       "       [ 1.39047192],\n",
       "       [ 0.21914836],\n",
       "       [ 1.60661408],\n",
       "       [ 3.32250338],\n",
       "       [-1.28108876],\n",
       "       [ 0.02857667],\n",
       "       [ 1.14238936],\n",
       "       [-0.72403724],\n",
       "       [ 0.12766451],\n",
       "       [-0.23171947],\n",
       "       [-0.31264121],\n",
       "       [-0.44395982],\n",
       "       [ 0.77634507],\n",
       "       [-0.06201793],\n",
       "       [-0.95867761],\n",
       "       [-0.34982637],\n",
       "       [-0.08234364],\n",
       "       [-0.61676466],\n",
       "       [ 0.16200045],\n",
       "       [-0.86980162],\n",
       "       [-0.12802205],\n",
       "       [-0.72503537],\n",
       "       [ 0.39293319],\n",
       "       [-0.87495564],\n",
       "       [ 0.16537597],\n",
       "       [-0.72583388],\n",
       "       [-0.28140858],\n",
       "       [-0.15263068],\n",
       "       [-0.80138383],\n",
       "       [-1.3175843 ],\n",
       "       [-0.61041288],\n",
       "       [-0.22411548],\n",
       "       [-0.34058906],\n",
       "       [-0.07713518],\n",
       "       [-0.12154323],\n",
       "       [-1.1944849 ],\n",
       "       [ 2.19406344],\n",
       "       [ 1.12787099],\n",
       "       [ 2.03526882],\n",
       "       [-0.17311972],\n",
       "       [-0.01722877],\n",
       "       [ 0.35139252],\n",
       "       [-0.87506453],\n",
       "       [ 2.74993535],\n",
       "       [ 0.15258166],\n",
       "       [-0.32906511],\n",
       "       [-0.82768022],\n",
       "       [-0.45334232],\n",
       "       [-1.54617596],\n",
       "       [-1.00582419],\n",
       "       [-0.35472632],\n",
       "       [-0.0249961 ],\n",
       "       [ 0.16577522],\n",
       "       [-0.68627134],\n",
       "       [-0.9726588 ],\n",
       "       [-1.02262375],\n",
       "       [-0.93652984],\n",
       "       [ 0.30930741],\n",
       "       [-0.08992949],\n",
       "       [-0.28993812],\n",
       "       [ 0.17403254],\n",
       "       [-0.89146121],\n",
       "       [-1.0320988 ],\n",
       "       [-0.54765725],\n",
       "       [-0.72483575],\n",
       "       [-0.28006563],\n",
       "       [ 0.24749547],\n",
       "       [-0.69910194],\n",
       "       [-1.03345264],\n",
       "       [ 0.58363192],\n",
       "       [-0.94770173]])"
      ]
     },
     "execution_count": 9,
     "metadata": {},
     "output_type": "execute_result"
    }
   ],
   "source": [
    "y.values"
   ]
  },
  {
   "cell_type": "code",
   "execution_count": 10,
   "metadata": {},
   "outputs": [
    {
     "data": {
      "text/plain": [
       "array([[ 0.,  0.]])"
      ]
     },
     "execution_count": 10,
     "metadata": {},
     "output_type": "execute_result"
    }
   ],
   "source": [
    "theta = np.zeros((1,2))\n",
    "theta"
   ]
  },
  {
   "cell_type": "code",
   "execution_count": 11,
   "metadata": {},
   "outputs": [
    {
     "data": {
      "text/plain": [
       "((97, 2), (97, 1), (1, 2))"
      ]
     },
     "execution_count": 11,
     "metadata": {},
     "output_type": "execute_result"
    }
   ],
   "source": [
    "x.shape, y.shape, theta.shape"
   ]
  },
  {
   "cell_type": "code",
   "execution_count": 12,
   "metadata": {},
   "outputs": [
    {
     "data": {
      "text/plain": [
       "Profit    0.494845\n",
       "dtype: float64"
      ]
     },
     "execution_count": 12,
     "metadata": {},
     "output_type": "execute_result"
    }
   ],
   "source": [
    "cost_function(x,y, theta)\n"
   ]
  },
  {
   "cell_type": "code",
   "execution_count": 16,
   "metadata": {},
   "outputs": [],
   "source": [
    "def gradient_descent(x,y, theta, alpha, iterations):\n",
    "    temp = theta.copy()\n",
    "    #print(temp)\n",
    "    #Scrape training data to exclude the ones.\n",
    "    x_1 = x.iloc[:, 1:2]\n",
    "    \n",
    "    #initialise the cost array\n",
    "    cost = np.zeros(iterations)\n",
    "    \n",
    "    for i in range(iterations):\n",
    "        errorx =np.dot(x , theta.T) - y\n",
    "        \n",
    "        \n",
    "        temp[0,0] = theta[0,0] - (1/x.shape[0])*alpha*np.sum(errorx)\n",
    "        \n",
    "        \n",
    "        #print (theta[0,0])\n",
    "        \n",
    "        temp[0,1] = theta[0,1] - (1/x.shape[0])*alpha*np.sum(np.dot(errorx,x_1.T))  \n",
    "         \n",
    "        #print ((1/x.shape[0])*alpha*np.sum(errorx), (1/x.shape[0])*alpha*np.sum(np.dot(errorx,x_1.T)))\n",
    "        theta = temp.copy()\n",
    "        cost[i] = cost_function(x, y, theta)\n",
    "        #temp = theta.copy()\n",
    "        \n",
    "        \n",
    "        #print(temp)\n",
    "    return theta, cost"
   ]
  },
  {
   "cell_type": "code",
   "execution_count": 20,
   "metadata": {},
   "outputs": [
    {
     "name": "stdout",
     "output_type": "stream",
     "text": [
      "AS\n",
      "SD\n"
     ]
    },
    {
     "data": {
      "text/plain": [
       "Profit    0.160455\n",
       "dtype: float64"
      ]
     },
     "execution_count": 20,
     "metadata": {},
     "output_type": "execute_result"
    }
   ],
   "source": [
    "theta = np.ones((1,2))\n",
    "alpha =0.01\n",
    "iterations = 1000\n",
    "print (\"AS\")\n",
    "cost_function(x, y, theta)\n",
    "final_theta, cost = gradient_descent(x, y, theta,alpha, iterations)\n",
    "print(\"SD\")\n",
    "cost_function(x, y, final_theta)"
   ]
  },
  {
   "cell_type": "code",
   "execution_count": 22,
   "metadata": {},
   "outputs": [
    {
     "data": {
      "text/plain": [
       "<matplotlib.text.Text at 0x7f34429365c0>"
      ]
     },
     "execution_count": 22,
     "metadata": {},
     "output_type": "execute_result"
    },
    {
     "data": {
      "image/png": "[encoded data removed]",
      "text/plain": [
       "<matplotlib.figure.Figure at 0x7f34429dcf98>"
      ]
     },
     "metadata": {},
     "output_type": "display_data"
    }
   ],
   "source": [
    "fig, ax = plt.subplots(figsize=(12,8))\n",
    "ax.plot(np.arange(iterations), cost, 'r')\n",
    "ax.set_xlabel('Iterations')\n",
    "ax.set_ylabel('Cost')\n",
    "ax.set_title('Error vs. Training Epoch')"
   ]
  }
 ],
 "metadata": {
  "kernelspec": {
   "display_name": "Python 3",
   "language": "python",
   "name": "python3"
  },
  "language_info": {
   "codemirror_mode": {
    "name": "ipython",
    "version": 3
   },
   "file_extension": ".py",
   "mimetype": "text/x-python",
   "name": "python",
   "nbconvert_exporter": "python",
   "pygments_lexer": "ipython3",
   "version": "3.6.1"
  }
 },
 "nbformat": 4,
 "nbformat_minor": 2
}
